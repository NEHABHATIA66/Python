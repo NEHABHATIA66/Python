{
 "cells": [
  {
   "cell_type": "code",
   "execution_count": 10,
   "id": "9644ae85",
   "metadata": {},
   "outputs": [
    {
     "name": "stdout",
     "output_type": "stream",
     "text": [
      "enter your number100\n",
      "computer number 7\n",
      "your number is too high\n"
     ]
    }
   ],
   "source": [
    "import random\n",
    "comp_number= random.randrange(1,101)\n",
    "your_number=int(input(\"enter your number\"))\n",
    "if your_number<comp_number:\n",
    "    print(\"computer number\",comp_number)\n",
    "    print(\"your number is too low\")\n",
    "elif your_number>comp_number:\n",
    "    \n",
    "    print(\"computer number\",comp_number)\n",
    "    print(\"your number is too high\")\n",
    "else:\n",
    "    print(\"computer number\",comp_number)\n",
    "    print(\"you guessed it right\")"
   ]
  }
 ],
 "metadata": {
  "kernelspec": {
   "display_name": "Python 3 (ipykernel)",
   "language": "python",
   "name": "python3"
  },
  "language_info": {
   "codemirror_mode": {
    "name": "ipython",
    "version": 3
   },
   "file_extension": ".py",
   "mimetype": "text/x-python",
   "name": "python",
   "nbconvert_exporter": "python",
   "pygments_lexer": "ipython3",
   "version": "3.9.13"
  }
 },
 "nbformat": 4,
 "nbformat_minor": 5
}
